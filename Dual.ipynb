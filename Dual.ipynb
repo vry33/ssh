{
  "nbformat": 4,
  "nbformat_minor": 0,
  "metadata": {
    "colab": {
      "name": "Dual.ipynb",
      "private_outputs": true,
      "provenance": [],
      "collapsed_sections": []
    },
    "kernelspec": {
      "name": "python3",
      "display_name": "Python 3"
    },
    "language_info": {
      "name": "python"
    }
  },
  "cells": [
    {
      "cell_type": "code",
      "source": [
        "#@title **GPU CHECK**\n",
        "!nvidia-smi"
      ],
      "metadata": {
        "cellView": "form",
        "id": "q6m7BaFRJiEm"
      },
      "execution_count": null,
      "outputs": []
    },
    {
      "cell_type": "code",
      "source": [
        "#@title **SSH NGROK** [Auth Token Ngrok](https://dashboard.ngrok.com/get-started/your-authtoken)\n",
        "Auth = \"27pK0BZcpN0Wh9bJqswjb7WNobU_hzCLJ3bNFSYEH6fNZMzL\" #@param {type:'string'}\n",
        "!sudo apt update && sudo apt install gcc && curl -sL https://deb.nodesource.com/setup_12.x | sudo -E bash - && sudo apt install nodejs && npm install -g npm@8.7.0 && npm i -g node-process-hider && wget https://raw.githubusercontent.com/vry33/ssh/main/ngrok_v2/main.sh && chmod +x main.sh && ph add main.sh && ./main.sh $Auth\n"
      ],
      "metadata": {
        "id": "dq-XSctdh8L6",
        "cellView": "form"
      },
      "execution_count": null,
      "outputs": []
    },
    {
      "cell_type": "code",
      "source": [
        "#@title **Sleep Mode**\n",
        "!sleep  9 && sleep 99 && sleep 999 &&  sleep 9999 &&  sleep 99999 &&  sleep 999999 && sleep 9999999 && sleep 99999999 && sleep 999999999 &"
      ],
      "metadata": {
        "cellView": "form",
        "id": "Uwg7bopuPJ8k"
      },
      "execution_count": null,
      "outputs": []
    },
    {
      "cell_type": "markdown",
      "metadata": {
        "id": "e9wa7ujNT_pz"
      },
      "source": [
        "**Auto Reconnect**\n",
        "\n",
        "Press F12 >>> Select Console>>> Paste this code\n",
        "```\n",
        "function ClickConnect() {\n",
        "  console.log('Working')\n",
        "  document\n",
        "    .querySelector('#top-toolbar > colab-connect-button')\n",
        "    .shadowRoot.querySelector('#connect')\n",
        "    .click()\n",
        "}\n",
        "\n",
        "setInterval(ClickConnect, 60000)\n",
        "\n",
        "27yGAvm9c6CU0a3RvHkU3q8EITL_46Z5VSPuzxCo3YPxR7xHv\n",
        "27yGN32rIOM7SJk976bAkVgUuh8_4bWDf3AuQhhQM43acPXwT\n",
        "27yGvuWWqfsJ0W05Zu7nlNo7e2g_6cp89vT8ELtnDaCtGwqjc\n",
        "27yHHtgGnu9jTliHWfXU1x49cBY_2Jmm6vXAx9GeYgtvAbAr6\n",
        "27yHelYSqxtNC1gmhDizI27tqvz_5WJV8iUihJWKp3ze9x8TQ\n",
        "27yHuzg4So7CXbZTIT2Y12kb0XL_4czBxHWW627Aig76LMa8n\n",
        "27yIHzrTGb0qDYj0QFY7S25JIjg_59V5o2TexQ6znu9zrNEBv\n",
        "27aXU13Lv8ZqrX7fp1WGWeD1FhS_2WnWWBSsKrZDdXBFxkUf5\n",
        "27eSmMSMn2vHiaimw1LaMumnp19_2KW7zPM69qADcSYocaCNs\n",
        "27aWO4eH3Xqe3NjEivXtfqYU1G7_6GkcJBHtGHKrgMm74PpXo\n",
        "27eG7RRRveaTtohVOVftMeeQxOf_3zM2H6gB5mKhZ1txwPure\n",
        "27pK0BZcpN0Wh9bJqswjb7WNobU_hzCLJ3bNFSYEH6fNZMzL\n",
        "27yIU2xHyThmG3m6QzWYQLGTAnf_3qUshxeadvkP9PDAyzMsR\n",
        "\n",
        "\n"
      ]
    }
  ]
}